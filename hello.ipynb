{
 "cells": [
  {
   "cell_type": "code",
   "execution_count": null,
   "source": [],
   "outputs": [],
   "metadata": {}
  },
  {
   "cell_type": "code",
   "execution_count": null,
   "source": [
    "import pandas as pd\r\n",
    "import numpy as np\r\n",
    "data = pd.read_csv(r'C:\\Users\\17164\\OneDrive\\Desktop\\hello_ds\\data.csv')"
   ],
   "outputs": [],
   "metadata": {}
  },
  {
   "cell_type": "code",
   "execution_count": null,
   "source": [
    "\r\n",
    "data = data.astype({\"age\": np.float64, \"class\": np.dtype})"
   ],
   "outputs": [],
   "metadata": {}
  },
  {
   "cell_type": "code",
   "execution_count": null,
   "source": [
    "import seaborn as sns\r\n",
    "import matplotlib.pyplot as plt\r\n",
    "\r\n",
    "fig, axs = plt.subplots(ncols=5, figsize=(30,5))\r\n",
    "sns.violinplot(x=\"alignment\", y=\"survived\", hue=\"class\", data=data, ax=axs[0])\r\n",
    "sns.pointplot(x=\"partysize\", y=\"survived\", hue=\"class\", data=data, ax=axs[1])\r\n",
    "sns.pointplot(x=\"lvl\", y=\"survived\", hue=\"maginc\", data=data, ax=axs[2])\r\n",
    "sns.pointplot(x=\"age\", y=\"survived\", hue=\"race\", data=data, ax=axs[3])\r\n",
    "sns.violinplot(x=\"class\", y=\"survived\", hue=\"lvl\", data=data, ax=axs[4])"
   ],
   "outputs": [],
   "metadata": {}
  },
  {
   "cell_type": "code",
   "execution_count": null,
   "source": [
    "data.corr().abs()[[\"survived\"]]"
   ],
   "outputs": [],
   "metadata": {}
  },
  {
   "cell_type": "code",
   "execution_count": null,
   "source": [
    "data['partysize'] = data.apply (lambda row: int((row['partysize'] + row['parchsibsp']) > 0), axis=1)\r\n",
    "data.corr().abs()[[\"survived\"]]"
   ],
   "outputs": [],
   "metadata": {}
  },
  {
   "cell_type": "code",
   "execution_count": null,
   "source": [
    "data = data[['sex', 'parchsibsp','age','partysize','alignment','maginc']].dropna()"
   ],
   "outputs": [],
   "metadata": {}
  },
  {
   "cell_type": "code",
   "execution_count": null,
   "source": [
    "from sklearn.model_selection import train_test_split\r\n",
    "x_train, x_test, y_train, y_test = train_test_split(data[['sex', 'parchsibsp','age','partysize','alignment','maginc']], data.survived, test_size=0.2, random_state=0)"
   ],
   "outputs": [],
   "metadata": {}
  },
  {
   "cell_type": "code",
   "execution_count": null,
   "source": [
    "from sklearn.preprocessing import StandardScaler\r\n",
    "sc = StandardScaler()\r\n",
    "X_train = sc.fit_transform(x_train)\r\n",
    "X_test = sc.transform(x_test)"
   ],
   "outputs": [],
   "metadata": {}
  },
  {
   "cell_type": "code",
   "execution_count": null,
   "source": [
    "from sklearn.naive_bayes import GaussianNB\r\n",
    "model = GaussianNB()\r\n",
    "model.fit(X_train, y_train)"
   ],
   "outputs": [],
   "metadata": {}
  },
  {
   "cell_type": "code",
   "execution_count": null,
   "source": [
    "from sklearn import metrics\r\n",
    "predict_test = model.predict(X_test)\r\n",
    "print(metrics.accuracy_score(y_test, predict_test))"
   ],
   "outputs": [],
   "metadata": {}
  },
  {
   "cell_type": "code",
   "execution_count": null,
   "source": [
    "from keras.models import Sequential\r\n",
    "from keras.layers import Dense\r\n",
    "\r\n",
    "model = Sequential()"
   ],
   "outputs": [],
   "metadata": {}
  },
  {
   "cell_type": "code",
   "execution_count": null,
   "source": [
    "model.add(Dense(5, kernel_initializer = 'uniform', activation = 'relu', input_dim = 5))\r\n",
    "model.add(Dense(5, kernel_initializer = 'uniform', activation = 'relu'))\r\n",
    "model.add(Dense(1, kernel_initializer = 'uniform', activation = 'sigmoid'))"
   ],
   "outputs": [],
   "metadata": {}
  },
  {
   "cell_type": "code",
   "execution_count": null,
   "source": [
    "model.summary()"
   ],
   "outputs": [],
   "metadata": {}
  },
  {
   "cell_type": "code",
   "execution_count": null,
   "source": [
    "model.compile(optimizer=\"adam\", loss='binary_crossentropy', metrics=['accuracy'])\r\n",
    "model.fit(X_train, y_train, batch_size=32, epochs=50)\r\n"
   ],
   "outputs": [],
   "metadata": {}
  },
  {
   "cell_type": "code",
   "execution_count": null,
   "source": [
    "y_pred = model.predict_classes(X_test)\r\n",
    "print(metrics.accuracy_score(y_test, y_pred))"
   ],
   "outputs": [],
   "metadata": {}
  },
  {
   "cell_type": "code",
   "execution_count": null,
   "source": [
    "data.replace({'male': 1, 'female': 0}, inplace=True)"
   ],
   "outputs": [],
   "metadata": {}
  }
 ],
 "metadata": {
  "orig_nbformat": 4,
  "language_info": {
   "name": "python",
   "version": "3.7.11",
   "mimetype": "text/x-python",
   "codemirror_mode": {
    "name": "ipython",
    "version": 3
   },
   "pygments_lexer": "ipython3",
   "nbconvert_exporter": "python",
   "file_extension": ".py"
  },
  "kernelspec": {
   "name": "python3",
   "display_name": "Python 3.7.11 64-bit ('myenv': conda)"
  },
  "interpreter": {
   "hash": "251ce1a8060e259b46a3a7c2530e062e37577fe026669bc5fc00013041641cbe"
  }
 },
 "nbformat": 4,
 "nbformat_minor": 2
}